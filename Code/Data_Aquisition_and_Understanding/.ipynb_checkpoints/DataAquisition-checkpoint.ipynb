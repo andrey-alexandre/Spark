{
 "cells": [
  {
   "cell_type": "code",
   "execution_count": 5,
   "metadata": {},
   "outputs": [],
   "source": [
    "import re"
   ]
  },
  {
   "cell_type": "code",
   "execution_count": 6,
   "metadata": {},
   "outputs": [],
   "source": [
    "from pyspark.sql import SparkSession\n",
    "spark = SparkSession.builder.appName(\"LoanApprovement\").getOrCreate()\n",
    "sc = spark.sparkContext"
   ]
  },
  {
   "cell_type": "code",
   "execution_count": 7,
   "metadata": {},
   "outputs": [],
   "source": [
    "SBA_national = sc.textFile(\"/home/jovyan/work/Data/Raw/SBAnational.csv\")\n",
    "SBA_national = SBA_national.map(lambda x: x.split(\",\"))"
   ]
  },
  {
   "cell_type": "code",
   "execution_count": 8,
   "metadata": {
    "scrolled": true
   },
   "outputs": [],
   "source": [
    "columns_name = SBA_national.first()\n",
    "dataset = SBA_national.filter(lambda x: x != columns_name)"
   ]
  },
  {
   "cell_type": "code",
   "execution_count": 20,
   "metadata": {},
   "outputs": [],
   "source": [
    "# Transformação e Limpeza\n",
    "def LimpaRDD(autoStr) :\n",
    "    \n",
    "    # Verifica a indexação \n",
    "    if isinstance(autoStr, int) :\n",
    "        return autoStr\n",
    "    \n",
    "    # Separa cada índice pela vírgula (separador de colunas)\n",
    "    row = autoStr.split(\",\")\n",
    "    \n",
    "    # Transforma os nulos\n",
    "    row = [NA if column == \"\" else column for column in row]\n",
    "    \n",
    "    # Transforma str em num\n",
    "    row[9:17] = [int(col) for col in row[9:17]]\n",
    "    \n",
    "    # Limpa e transforma str em num\n",
    "    row[21:24] = [re.sub(\"[\\$, \\\"]\", \"\", col) for col in row[21:24]]\n",
    "    row[25:30] = [re.sub(\"[\\$, \\\"]\", \"\", col) for col in row[25:30]]"
   ]
  },
  {
   "cell_type": "code",
   "execution_count": 9,
   "metadata": {},
   "outputs": [
    {
     "data": {
      "text/plain": [
       "[['1000014003',\n",
       "  'ABC HOBBYCRAFT',\n",
       "  'EVANSVILLE',\n",
       "  'IN',\n",
       "  '47711',\n",
       "  'FIFTH THIRD BANK',\n",
       "  'OH',\n",
       "  '451120',\n",
       "  '28-Feb-97',\n",
       "  '1997',\n",
       "  '84',\n",
       "  '4',\n",
       "  '2',\n",
       "  '0',\n",
       "  '0',\n",
       "  '1',\n",
       "  '0',\n",
       "  'N',\n",
       "  'Y',\n",
       "  '',\n",
       "  '28-Feb-99',\n",
       "  '\"$60',\n",
       "  '000.00 \"',\n",
       "  '$0.00 ',\n",
       "  'P I F',\n",
       "  '$0.00 ',\n",
       "  '\"$60',\n",
       "  '000.00 \"',\n",
       "  '\"$48',\n",
       "  '000.00 \"']]"
      ]
     },
     "execution_count": 9,
     "metadata": {},
     "output_type": "execute_result"
    }
   ],
   "source": [
    "dataset.take(1)"
   ]
  },
  {
   "cell_type": "code",
   "execution_count": null,
   "metadata": {},
   "outputs": [],
   "source": [
    "21, 22, 23, 25, 26, 27, 28, 29"
   ]
  },
  {
   "cell_type": "code",
   "execution_count": 22,
   "metadata": {},
   "outputs": [],
   "source": [
    "a = ['\"$60',\n",
    "  '000.00 \"',\n",
    "  '$0.00 ',\n",
    "  '$0.00 ',\n",
    "  '\"$60',\n",
    "  '000.00 \"',\n",
    "  '\"$48',\n",
    "  '000.00 \"']"
   ]
  },
  {
   "cell_type": "code",
   "execution_count": 15,
   "metadata": {},
   "outputs": [
    {
     "data": {
      "text/plain": [
       "'\"$6'"
      ]
     },
     "execution_count": 15,
     "metadata": {},
     "output_type": "execute_result"
    }
   ],
   "source": [
    "re.sub(\"0\", \"\", )"
   ]
  },
  {
   "cell_type": "code",
   "execution_count": 27,
   "metadata": {},
   "outputs": [
    {
     "data": {
      "text/plain": [
       "['60', '000.00', '0.00', '0.00', '60', '000.00', '48', '000.00']"
      ]
     },
     "execution_count": 27,
     "metadata": {},
     "output_type": "execute_result"
    }
   ],
   "source": []
  },
  {
   "cell_type": "code",
   "execution_count": null,
   "metadata": {},
   "outputs": [],
   "source": []
  }
 ],
 "metadata": {
  "kernelspec": {
   "display_name": "Python 3",
   "language": "python",
   "name": "python3"
  },
  "language_info": {
   "codemirror_mode": {
    "name": "ipython",
    "version": 3
   },
   "file_extension": ".py",
   "mimetype": "text/x-python",
   "name": "python",
   "nbconvert_exporter": "python",
   "pygments_lexer": "ipython3",
   "version": "3.7.6"
  }
 },
 "nbformat": 4,
 "nbformat_minor": 4
}
