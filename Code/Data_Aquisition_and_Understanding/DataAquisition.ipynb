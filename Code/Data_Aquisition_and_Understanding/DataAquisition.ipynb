{
 "cells": [
  {
   "cell_type": "code",
   "execution_count": 2,
   "metadata": {},
   "outputs": [],
   "source": [
    "import re"
   ]
  },
  {
   "cell_type": "code",
   "execution_count": 19,
   "metadata": {},
   "outputs": [],
   "source": [
    "from pyspark.sql import SparkSession\n",
    "spark = SparkSession.builder.appName(\"LoanApprovement\").getOrCreate()\n",
    "sc = spark.sparkContext"
   ]
  },
  {
   "cell_type": "code",
   "execution_count": 35,
   "metadata": {},
   "outputs": [],
   "source": [
    "SBA_national = sc.textFile(\"/home/jovyan/work/Data/SBAnational.csv\")\n",
    "SBA_national = SBA_national.map(lambda x: x.split(\",\"))"
   ]
  },
  {
   "cell_type": "code",
   "execution_count": 48,
   "metadata": {},
   "outputs": [],
   "source": [
    "columns_name = SBA_national.first()\n",
    "dataset = SBA_national.filter(lambda x: x != columns_name)"
   ]
  },
  {
   "cell_type": "code",
   "execution_count": 20,
   "metadata": {},
   "outputs": [],
   "source": [
    "# Transformação e Limpeza\n",
    "def LimpaRDD(autoStr) :\n",
    "    \n",
    "    # Verifica a indexação \n",
    "    if isinstance(autoStr, int) :\n",
    "        return autoStr\n",
    "    \n",
    "    # Separa cada índice pela vírgula (separador de colunas)\n",
    "    row = autoStr.split(\",\")\n",
    "    \n",
    "    # Transforma os nulos\n",
    "    row = [NA if column == \"\" else column for column in row]\n",
    "    \n",
    "    # Transforma str em num\n",
    "    row[9:17] = [int(row[i]) for i in range(9, 17)]"
   ]
  },
  {
   "cell_type": "code",
   "execution_count": 77,
   "metadata": {},
   "outputs": [
    {
     "data": {
      "text/plain": [
       "[['1000014003',\n",
       "  'ABC HOBBYCRAFT',\n",
       "  'EVANSVILLE',\n",
       "  'IN',\n",
       "  '47711',\n",
       "  'FIFTH THIRD BANK',\n",
       "  'OH',\n",
       "  '451120',\n",
       "  '28-Feb-97',\n",
       "  '1997',\n",
       "  '84',\n",
       "  '4',\n",
       "  '2',\n",
       "  '0',\n",
       "  '0',\n",
       "  '1',\n",
       "  '0',\n",
       "  'N',\n",
       "  'Y',\n",
       "  '',\n",
       "  '28-Feb-99',\n",
       "  '\"$60',\n",
       "  '000.00 \"',\n",
       "  '$0.00 ',\n",
       "  'P I F',\n",
       "  '$0.00 ',\n",
       "  '\"$60',\n",
       "  '000.00 \"',\n",
       "  '\"$48',\n",
       "  '000.00 \"'],\n",
       " ['1000024006',\n",
       "  'LANDMARK BAR & GRILLE (THE)',\n",
       "  'NEW PARIS',\n",
       "  'IN',\n",
       "  '46526',\n",
       "  '1ST SOURCE BANK',\n",
       "  'IN',\n",
       "  '722410',\n",
       "  '28-Feb-97',\n",
       "  '1997',\n",
       "  '60',\n",
       "  '2',\n",
       "  '2',\n",
       "  '0',\n",
       "  '0',\n",
       "  '1',\n",
       "  '0',\n",
       "  'N',\n",
       "  'Y',\n",
       "  '',\n",
       "  '31-May-97',\n",
       "  '\"$40',\n",
       "  '000.00 \"',\n",
       "  '$0.00 ',\n",
       "  'P I F',\n",
       "  '$0.00 ',\n",
       "  '\"$40',\n",
       "  '000.00 \"',\n",
       "  '\"$32',\n",
       "  '000.00 \"'],\n",
       " ['1000034009',\n",
       "  '\"WHITLOCK DDS',\n",
       "  ' TODD M.\"',\n",
       "  'BLOOMINGTON',\n",
       "  'IN',\n",
       "  '47401',\n",
       "  'GRANT COUNTY STATE BANK',\n",
       "  'IN',\n",
       "  '621210',\n",
       "  '28-Feb-97',\n",
       "  '1997',\n",
       "  '180',\n",
       "  '7',\n",
       "  '1',\n",
       "  '0',\n",
       "  '0',\n",
       "  '1',\n",
       "  '0',\n",
       "  'N',\n",
       "  'N',\n",
       "  '',\n",
       "  '31-Dec-97',\n",
       "  '\"$287',\n",
       "  '000.00 \"',\n",
       "  '$0.00 ',\n",
       "  'P I F',\n",
       "  '$0.00 ',\n",
       "  '\"$287',\n",
       "  '000.00 \"',\n",
       "  '\"$215',\n",
       "  '250.00 \"']]"
      ]
     },
     "execution_count": 77,
     "metadata": {},
     "output_type": "execute_result"
    }
   ],
   "source": [
    "dataset.take(3)"
   ]
  },
  {
   "cell_type": "code",
   "execution_count": null,
   "metadata": {},
   "outputs": [],
   "source": [
    "21, 26 28"
   ]
  },
  {
   "cell_type": "code",
   "execution_count": 1,
   "metadata": {},
   "outputs": [
    {
     "data": {
      "text/plain": [
       "['\"$60',\n",
       " '000.00 \"',\n",
       " '$0.00 ',\n",
       " 'P I F',\n",
       " '$0.00 ',\n",
       " '\"$60',\n",
       " '000.00 \"',\n",
       " '\"$48',\n",
       " '000.00 \"']"
      ]
     },
     "execution_count": 1,
     "metadata": {},
     "output_type": "execute_result"
    }
   ],
   "source": [
    "['\"$60',\n",
    "  '000.00 \"',\n",
    "  '$0.00 ',\n",
    "  'P I F',\n",
    "  '$0.00 ',\n",
    "  '\"$60',\n",
    "  '000.00 \"',\n",
    "  '\"$48',\n",
    "  '000.00 \"']"
   ]
  },
  {
   "cell_type": "code",
   "execution_count": 75,
   "metadata": {},
   "outputs": [
    {
     "ename": "TypeError",
     "evalue": "list indices must be integers or slices, not tuple",
     "output_type": "error",
     "traceback": [
      "\u001b[0;31m---------------------------------------------------------------------------\u001b[0m",
      "\u001b[0;31mTypeError\u001b[0m                                 Traceback (most recent call last)",
      "\u001b[0;32m<ipython-input-75-a55686076747>\u001b[0m in \u001b[0;36m<module>\u001b[0;34m\u001b[0m\n\u001b[0;32m----> 1\u001b[0;31m \u001b[0ma\u001b[0m\u001b[0;34m[\u001b[0m\u001b[0;36m3\u001b[0m\u001b[0;34m,\u001b[0m\u001b[0;36m4\u001b[0m\u001b[0;34m]\u001b[0m\u001b[0;34m\u001b[0m\u001b[0;34m\u001b[0m\u001b[0m\n\u001b[0m",
      "\u001b[0;31mTypeError\u001b[0m: list indices must be integers or slices, not tuple"
     ]
    }
   ],
   "source": [
    "re.sub()"
   ]
  },
  {
   "cell_type": "code",
   "execution_count": null,
   "metadata": {},
   "outputs": [],
   "source": []
  }
 ],
 "metadata": {
  "kernelspec": {
   "display_name": "Python 3",
   "language": "python",
   "name": "python3"
  },
  "language_info": {
   "codemirror_mode": {
    "name": "ipython",
    "version": 3
   },
   "file_extension": ".py",
   "mimetype": "text/x-python",
   "name": "python",
   "nbconvert_exporter": "python",
   "pygments_lexer": "ipython3",
   "version": "3.7.6"
  }
 },
 "nbformat": 4,
 "nbformat_minor": 4
}
