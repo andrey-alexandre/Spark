{
 "cells": [
  {
   "cell_type": "code",
   "execution_count": 12,
   "metadata": {},
   "outputs": [],
   "source": [
    "import re\n",
    "import numpy as np"
   ]
  },
  {
   "cell_type": "code",
   "execution_count": 13,
   "metadata": {},
   "outputs": [],
   "source": [
    "from pyspark.sql import SparkSession\n",
    "spark = SparkSession.builder.appName(\"LoanApprovement\").getOrCreate()\n",
    "sc = spark.sparkContext"
   ]
  },
  {
   "cell_type": "code",
   "execution_count": 14,
   "metadata": {},
   "outputs": [],
   "source": [
    "SBA_national = sc.textFile(\"/home/jovyan/work/Data/Raw/SBAnational.csv\")\n",
    "SBA_national = SBA_national.map(lambda x: x.split(\",(?=([^\\\\\\\"]*\\\\\\\"[^\\\\\\\"]*\\\\\\\")*[^\\\\\\\"]*$)\"))"
   ]
  },
  {
   "cell_type": "code",
   "execution_count": 15,
   "metadata": {
    "scrolled": true
   },
   "outputs": [],
   "source": [
    "columns_name = SBA_national.first()\n",
    "dataset = SBA_national.filter(lambda x: x != columns_name)"
   ]
  },
  {
   "cell_type": "code",
   "execution_count": 16,
   "metadata": {},
   "outputs": [],
   "source": [
    "# Transformação e Limpeza\n",
    "def LimpaRDD(autoStr) :\n",
    "    \n",
    "    # Verifica a indexação \n",
    "    if isinstance(autoStr, int) :\n",
    "        return autoStr\n",
    "    \n",
    "    # Transforma os nulos\n",
    "    row = [np.nan if column == \"\" else column for column in autoStr]\n",
    "    \n",
    "    # Transforma str em num\n",
    "    row[9:17] = [int(col) for col in row[9:17]]\n",
    "    \n",
    "    # Limpa e transforma str em num\n",
    "    row[21:24] = [float(re.sub(\"[\\$, \\\"]\", \"\", col)) for col in row[21:24]]\n",
    "    row[25:30] = [float(re.sub(\"[\\$, \\\"]\", \"\", col)) for col in row[25:30]]\n",
    "    \n",
    "    return row"
   ]
  },
  {
   "cell_type": "code",
   "execution_count": 19,
   "metadata": {},
   "outputs": [
    {
     "data": {
      "text/plain": [
       "[['1000014003,ABC HOBBYCRAFT,EVANSVILLE,IN,47711,FIFTH THIRD BANK,OH,451120,28-Feb-97,1997,84,4,2,0,0,1,0,N,Y,,28-Feb-99,\"$60,000.00 \",$0.00 ,P I F,$0.00 ,\"$60,000.00 \",\"$48,000.00 \"'],\n",
       " ['1000024006,LANDMARK BAR & GRILLE (THE),NEW PARIS,IN,46526,1ST SOURCE BANK,IN,722410,28-Feb-97,1997,60,2,2,0,0,1,0,N,Y,,31-May-97,\"$40,000.00 \",$0.00 ,P I F,$0.00 ,\"$40,000.00 \",\"$32,000.00 \"'],\n",
       " ['1000034009,\"WHITLOCK DDS, TODD M.\",BLOOMINGTON,IN,47401,GRANT COUNTY STATE BANK,IN,621210,28-Feb-97,1997,180,7,1,0,0,1,0,N,N,,31-Dec-97,\"$287,000.00 \",$0.00 ,P I F,$0.00 ,\"$287,000.00 \",\"$215,250.00 \"'],\n",
       " ['1000044001,\"BIG BUCKS PAWN & JEWELRY, LLC\",BROKEN ARROW,OK,74012,1ST NATL BK & TR CO OF BROKEN,OK,0,28-Feb-97,1997,60,2,1,0,0,1,0,N,Y,,30-Jun-97,\"$35,000.00 \",$0.00 ,P I F,$0.00 ,\"$35,000.00 \",\"$28,000.00 \"'],\n",
       " ['1000054004,\"ANASTASIA CONFECTIONS, INC.\",ORLANDO,FL,32801,FLORIDA BUS. DEVEL CORP,FL,0,28-Feb-97,1997,240,14,1,7,7,1,0,N,N,,14-May-97,\"$229,000.00 \",$0.00 ,P I F,$0.00 ,\"$229,000.00 \",\"$229,000.00 \"']]"
      ]
     },
     "execution_count": 19,
     "metadata": {},
     "output_type": "execute_result"
    }
   ],
   "source": [
    "dataset = dataset.map(LimpaRDD)"
   ]
  },
  {
   "cell_type": "code",
   "execution_count": 10,
   "metadata": {},
   "outputs": [
    {
     "data": {
      "text/plain": [
       "['1000044001', '\"BIG BUCKS PAWN & JEWELRY', ' LLC\"', 'BROKEN ARROW']"
      ]
     },
     "execution_count": 10,
     "metadata": {},
     "output_type": "execute_result"
    }
   ],
   "source": [
    "'1000044001,\"BIG BUCKS PAWN & JEWELRY, LLC\",BROKEN ARROW'.split(',')"
   ]
  },
  {
   "cell_type": "code",
   "execution_count": 22,
   "metadata": {},
   "outputs": [],
   "source": []
  },
  {
   "cell_type": "code",
   "execution_count": 15,
   "metadata": {},
   "outputs": [
    {
     "data": {
      "text/plain": [
       "'\"$6'"
      ]
     },
     "execution_count": 15,
     "metadata": {},
     "output_type": "execute_result"
    }
   ],
   "source": []
  },
  {
   "cell_type": "code",
   "execution_count": 27,
   "metadata": {},
   "outputs": [
    {
     "data": {
      "text/plain": [
       "['60', '000.00', '0.00', '0.00', '60', '000.00', '48', '000.00']"
      ]
     },
     "execution_count": 27,
     "metadata": {},
     "output_type": "execute_result"
    }
   ],
   "source": []
  },
  {
   "cell_type": "code",
   "execution_count": null,
   "metadata": {},
   "outputs": [],
   "source": []
  }
 ],
 "metadata": {
  "kernelspec": {
   "display_name": "Python 3",
   "language": "python",
   "name": "python3"
  },
  "language_info": {
   "codemirror_mode": {
    "name": "ipython",
    "version": 3
   },
   "file_extension": ".py",
   "mimetype": "text/x-python",
   "name": "python",
   "nbconvert_exporter": "python",
   "pygments_lexer": "ipython3",
   "version": "3.7.6"
  }
 },
 "nbformat": 4,
 "nbformat_minor": 4
}
